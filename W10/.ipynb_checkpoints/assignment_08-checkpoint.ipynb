{
 "cells": [
  {
   "cell_type": "markdown",
   "id": "8c30294a",
   "metadata": {},
   "source": [
    "# Assignment 8\n",
    "Weeks 10 & 11 - matplotlib & seaborn"
   ]
  },
  {
   "cell_type": "code",
   "execution_count": 1,
   "id": "ca933386",
   "metadata": {},
   "outputs": [],
   "source": [
    "# import packages\n",
    "import pandas as pd\n",
    "from matplotlib import pyplot as plt\n",
    "import seaborn as sns\n",
    "import numpy as np"
   ]
  },
  {
   "cell_type": "markdown",
   "id": "5f628c13",
   "metadata": {},
   "source": [
    "## Import Data\n",
    "Data represents soil transfers in NYC and is available at\n",
    "https://data.cityofnewyork.us/Environment/NYC-Clean-Soil-Bank-Generating-and-Receiving-Sites/b4dv-8mq4"
   ]
  },
  {
   "cell_type": "code",
   "execution_count": 2,
   "id": "dcdbf334",
   "metadata": {},
   "outputs": [
    {
     "data": {
      "text/html": [
       "<div>\n",
       "<style scoped>\n",
       "    .dataframe tbody tr th:only-of-type {\n",
       "        vertical-align: middle;\n",
       "    }\n",
       "\n",
       "    .dataframe tbody tr th {\n",
       "        vertical-align: top;\n",
       "    }\n",
       "\n",
       "    .dataframe thead th {\n",
       "        text-align: right;\n",
       "    }\n",
       "</style>\n",
       "<table border=\"1\" class=\"dataframe\">\n",
       "  <thead>\n",
       "    <tr style=\"text-align: right;\">\n",
       "      <th></th>\n",
       "      <th>the_geom</th>\n",
       "      <th>addr</th>\n",
       "      <th>boro</th>\n",
       "      <th>category</th>\n",
       "      <th>genborough</th>\n",
       "      <th>generating</th>\n",
       "      <th>lat</th>\n",
       "      <th>lon</th>\n",
       "      <th>oer_projec</th>\n",
       "      <th>oer_proj_1</th>\n",
       "      <th>recborough</th>\n",
       "      <th>receiving_</th>\n",
       "      <th>status</th>\n",
       "      <th>uid</th>\n",
       "      <th>volume_cy</th>\n",
       "      <th>weight_ton</th>\n",
       "    </tr>\n",
       "  </thead>\n",
       "  <tbody>\n",
       "    <tr>\n",
       "      <th>0</th>\n",
       "      <td>NaN</td>\n",
       "      <td>GreenThumb HQ</td>\n",
       "      <td>Queens</td>\n",
       "      <td>Receiving</td>\n",
       "      <td>Queens</td>\n",
       "      <td>97-11 Sutphin Blvd</td>\n",
       "      <td>NaN</td>\n",
       "      <td>NaN</td>\n",
       "      <td>17TMP0431Q</td>\n",
       "      <td>NaN</td>\n",
       "      <td>NaN</td>\n",
       "      <td>NaN</td>\n",
       "      <td>Completed</td>\n",
       "      <td>19CCSB113</td>\n",
       "      <td>90</td>\n",
       "      <td>135</td>\n",
       "    </tr>\n",
       "    <tr>\n",
       "      <th>1</th>\n",
       "      <td>POINT (-73.926391 40.691478)</td>\n",
       "      <td>1003 Greene Ave</td>\n",
       "      <td>Brooklyn</td>\n",
       "      <td>Receiving</td>\n",
       "      <td>Brooklyn</td>\n",
       "      <td>63 North 6th Street</td>\n",
       "      <td>40.691478</td>\n",
       "      <td>-73.926391</td>\n",
       "      <td>15CVCP028K</td>\n",
       "      <td>15EHAN368K (and BCP)</td>\n",
       "      <td>NaN</td>\n",
       "      <td>NaN</td>\n",
       "      <td>Completed</td>\n",
       "      <td>16CCSB048</td>\n",
       "      <td>220</td>\n",
       "      <td>330</td>\n",
       "    </tr>\n",
       "    <tr>\n",
       "      <th>2</th>\n",
       "      <td>POINT (-73.979744 40.698401000000004)</td>\n",
       "      <td>Admiral's Row</td>\n",
       "      <td>Brooklyn</td>\n",
       "      <td>Receiving</td>\n",
       "      <td>Queens</td>\n",
       "      <td>38-01 Queen Boulevard</td>\n",
       "      <td>40.698401</td>\n",
       "      <td>-73.979744</td>\n",
       "      <td>NaN</td>\n",
       "      <td>DEP</td>\n",
       "      <td>NaN</td>\n",
       "      <td>NaN</td>\n",
       "      <td>Completed</td>\n",
       "      <td>17CCSB092</td>\n",
       "      <td>1000</td>\n",
       "      <td>1,500</td>\n",
       "    </tr>\n",
       "    <tr>\n",
       "      <th>3</th>\n",
       "      <td>POINT (-73.834251 40.759885)</td>\n",
       "      <td>2 Fulton Square</td>\n",
       "      <td>Queens</td>\n",
       "      <td>Generating</td>\n",
       "      <td>NaN</td>\n",
       "      <td>NaN</td>\n",
       "      <td>40.759885</td>\n",
       "      <td>-73.834251</td>\n",
       "      <td>NaN</td>\n",
       "      <td>OEM</td>\n",
       "      <td>Manhattan</td>\n",
       "      <td>Wards Island</td>\n",
       "      <td>Completed</td>\n",
       "      <td>16CCSB066</td>\n",
       "      <td>500</td>\n",
       "      <td>750</td>\n",
       "    </tr>\n",
       "    <tr>\n",
       "      <th>4</th>\n",
       "      <td>POINT (-73.858075 40.728102)</td>\n",
       "      <td>98-04 Queens Boulevard</td>\n",
       "      <td>Queens</td>\n",
       "      <td>Generating</td>\n",
       "      <td>NaN</td>\n",
       "      <td>NaN</td>\n",
       "      <td>40.728102</td>\n",
       "      <td>-73.858075</td>\n",
       "      <td>19TMP1900Q</td>\n",
       "      <td>NaN</td>\n",
       "      <td>Brooklyn</td>\n",
       "      <td>2175 Bergen Street</td>\n",
       "      <td>Completed</td>\n",
       "      <td>20CCSB150</td>\n",
       "      <td>460</td>\n",
       "      <td>690</td>\n",
       "    </tr>\n",
       "  </tbody>\n",
       "</table>\n",
       "</div>"
      ],
      "text/plain": [
       "                                the_geom                    addr      boro  \\\n",
       "0                                    NaN           GreenThumb HQ    Queens   \n",
       "1           POINT (-73.926391 40.691478)         1003 Greene Ave  Brooklyn   \n",
       "2  POINT (-73.979744 40.698401000000004)           Admiral's Row  Brooklyn   \n",
       "3           POINT (-73.834251 40.759885)         2 Fulton Square    Queens   \n",
       "4           POINT (-73.858075 40.728102)  98-04 Queens Boulevard    Queens   \n",
       "\n",
       "     category genborough             generating        lat        lon  \\\n",
       "0   Receiving     Queens     97-11 Sutphin Blvd        NaN        NaN   \n",
       "1   Receiving   Brooklyn    63 North 6th Street  40.691478 -73.926391   \n",
       "2   Receiving     Queens  38-01 Queen Boulevard  40.698401 -73.979744   \n",
       "3  Generating        NaN                    NaN  40.759885 -73.834251   \n",
       "4  Generating        NaN                    NaN  40.728102 -73.858075   \n",
       "\n",
       "   oer_projec            oer_proj_1 recborough          receiving_     status  \\\n",
       "0  17TMP0431Q                   NaN        NaN                 NaN  Completed   \n",
       "1  15CVCP028K  15EHAN368K (and BCP)        NaN                 NaN  Completed   \n",
       "2         NaN                   DEP        NaN                 NaN  Completed   \n",
       "3         NaN                   OEM  Manhattan        Wards Island  Completed   \n",
       "4  19TMP1900Q                   NaN   Brooklyn  2175 Bergen Street  Completed   \n",
       "\n",
       "         uid volume_cy weight_ton  \n",
       "0  19CCSB113        90        135  \n",
       "1  16CCSB048       220        330  \n",
       "2  17CCSB092      1000      1,500  \n",
       "3  16CCSB066       500        750  \n",
       "4  20CCSB150       460        690  "
      ]
     },
     "execution_count": 2,
     "metadata": {},
     "output_type": "execute_result"
    }
   ],
   "source": [
    "raw_data_df = pd.read_csv(\"https://raw.githubusercontent.com/adavidowitz100/DATA602/main/W10/NYC_Clean_Soil_Bank_Generating_and_Receiving_Sites.csv\")\n",
    "raw_data_df.head()"
   ]
  },
  {
   "cell_type": "code",
   "execution_count": 3,
   "id": "dbcb8ac3",
   "metadata": {},
   "outputs": [
    {
     "name": "stdout",
     "output_type": "stream",
     "text": [
      "<class 'pandas.core.frame.DataFrame'>\n",
      "RangeIndex: 278 entries, 0 to 277\n",
      "Data columns (total 16 columns):\n",
      " #   Column      Non-Null Count  Dtype  \n",
      "---  ------      --------------  -----  \n",
      " 0   the_geom    255 non-null    object \n",
      " 1   addr        278 non-null    object \n",
      " 2   boro        277 non-null    object \n",
      " 3   category    278 non-null    object \n",
      " 4   genborough  139 non-null    object \n",
      " 5   generating  139 non-null    object \n",
      " 6   lat         255 non-null    float64\n",
      " 7   lon         255 non-null    float64\n",
      " 8   oer_projec  242 non-null    object \n",
      " 9   oer_proj_1  164 non-null    object \n",
      " 10  recborough  138 non-null    object \n",
      " 11  receiving_  139 non-null    object \n",
      " 12  status      278 non-null    object \n",
      " 13  uid         276 non-null    object \n",
      " 14  volume_cy   276 non-null    object \n",
      " 15  weight_ton  276 non-null    object \n",
      "dtypes: float64(2), object(14)\n",
      "memory usage: 34.9+ KB\n"
     ]
    }
   ],
   "source": [
    "raw_data_df.info()"
   ]
  },
  {
   "cell_type": "markdown",
   "id": "56739a47",
   "metadata": {},
   "source": [
    "## Data Wrangling"
   ]
  },
  {
   "cell_type": "code",
   "execution_count": 4,
   "id": "b4357d18",
   "metadata": {},
   "outputs": [],
   "source": [
    "tidy_df = raw_data_df.copy(deep=True)"
   ]
  },
  {
   "cell_type": "code",
   "execution_count": 5,
   "id": "05faf2a4",
   "metadata": {},
   "outputs": [
    {
     "data": {
      "text/html": [
       "<div>\n",
       "<style scoped>\n",
       "    .dataframe tbody tr th:only-of-type {\n",
       "        vertical-align: middle;\n",
       "    }\n",
       "\n",
       "    .dataframe tbody tr th {\n",
       "        vertical-align: top;\n",
       "    }\n",
       "\n",
       "    .dataframe thead th {\n",
       "        text-align: right;\n",
       "    }\n",
       "</style>\n",
       "<table border=\"1\" class=\"dataframe\">\n",
       "  <thead>\n",
       "    <tr style=\"text-align: right;\">\n",
       "      <th></th>\n",
       "      <th>the_geom</th>\n",
       "      <th>addr</th>\n",
       "      <th>boro</th>\n",
       "      <th>category</th>\n",
       "      <th>genborough</th>\n",
       "      <th>generating</th>\n",
       "      <th>lat</th>\n",
       "      <th>lon</th>\n",
       "      <th>oer_projec</th>\n",
       "      <th>oer_proj_1</th>\n",
       "      <th>recborough</th>\n",
       "      <th>receiving_</th>\n",
       "      <th>status</th>\n",
       "      <th>uid</th>\n",
       "      <th>volume_cy</th>\n",
       "      <th>weight_ton</th>\n",
       "    </tr>\n",
       "  </thead>\n",
       "  <tbody>\n",
       "    <tr>\n",
       "      <th>71</th>\n",
       "      <td>POINT (-73.849258 40.650841)</td>\n",
       "      <td>Spring Creek Park</td>\n",
       "      <td>NaN</td>\n",
       "      <td>Receiving</td>\n",
       "      <td>New York</td>\n",
       "      <td>139 E Houston Street</td>\n",
       "      <td>40.650841</td>\n",
       "      <td>-73.849258</td>\n",
       "      <td>NaN</td>\n",
       "      <td>NaN</td>\n",
       "      <td>NaN</td>\n",
       "      <td>NaN</td>\n",
       "      <td>Complete</td>\n",
       "      <td>20CCSB167</td>\n",
       "      <td>640</td>\n",
       "      <td>960</td>\n",
       "    </tr>\n",
       "  </tbody>\n",
       "</table>\n",
       "</div>"
      ],
      "text/plain": [
       "                        the_geom               addr boro   category  \\\n",
       "71  POINT (-73.849258 40.650841)  Spring Creek Park  NaN  Receiving   \n",
       "\n",
       "   genborough            generating        lat        lon oer_projec  \\\n",
       "71   New York  139 E Houston Street  40.650841 -73.849258        NaN   \n",
       "\n",
       "   oer_proj_1 recborough receiving_    status        uid volume_cy weight_ton  \n",
       "71        NaN        NaN        NaN  Complete  20CCSB167       640        960  "
      ]
     },
     "execution_count": 5,
     "metadata": {},
     "output_type": "execute_result"
    }
   ],
   "source": [
    "# updating missing borough data\n",
    "tidy_df[tidy_df[\"boro\"].isna()]"
   ]
  },
  {
   "cell_type": "code",
   "execution_count": 6,
   "id": "ab14ae34",
   "metadata": {},
   "outputs": [
    {
     "data": {
      "text/html": [
       "<div>\n",
       "<style scoped>\n",
       "    .dataframe tbody tr th:only-of-type {\n",
       "        vertical-align: middle;\n",
       "    }\n",
       "\n",
       "    .dataframe tbody tr th {\n",
       "        vertical-align: top;\n",
       "    }\n",
       "\n",
       "    .dataframe thead th {\n",
       "        text-align: right;\n",
       "    }\n",
       "</style>\n",
       "<table border=\"1\" class=\"dataframe\">\n",
       "  <thead>\n",
       "    <tr style=\"text-align: right;\">\n",
       "      <th></th>\n",
       "      <th>the_geom</th>\n",
       "      <th>addr</th>\n",
       "      <th>boro</th>\n",
       "      <th>category</th>\n",
       "      <th>genborough</th>\n",
       "      <th>generating</th>\n",
       "      <th>lat</th>\n",
       "      <th>lon</th>\n",
       "      <th>oer_projec</th>\n",
       "      <th>oer_proj_1</th>\n",
       "      <th>recborough</th>\n",
       "      <th>receiving_</th>\n",
       "      <th>status</th>\n",
       "      <th>uid</th>\n",
       "      <th>volume_cy</th>\n",
       "      <th>weight_ton</th>\n",
       "    </tr>\n",
       "  </thead>\n",
       "  <tbody>\n",
       "    <tr>\n",
       "      <th>71</th>\n",
       "      <td>POINT (-73.849258 40.650841)</td>\n",
       "      <td>Spring Creek Park</td>\n",
       "      <td>Queens</td>\n",
       "      <td>Receiving</td>\n",
       "      <td>New York</td>\n",
       "      <td>139 E Houston Street</td>\n",
       "      <td>40.650841</td>\n",
       "      <td>-73.849258</td>\n",
       "      <td>NaN</td>\n",
       "      <td>NaN</td>\n",
       "      <td>NaN</td>\n",
       "      <td>NaN</td>\n",
       "      <td>Complete</td>\n",
       "      <td>20CCSB167</td>\n",
       "      <td>640</td>\n",
       "      <td>960</td>\n",
       "    </tr>\n",
       "  </tbody>\n",
       "</table>\n",
       "</div>"
      ],
      "text/plain": [
       "                        the_geom               addr    boro   category  \\\n",
       "71  POINT (-73.849258 40.650841)  Spring Creek Park  Queens  Receiving   \n",
       "\n",
       "   genborough            generating        lat        lon oer_projec  \\\n",
       "71   New York  139 E Houston Street  40.650841 -73.849258        NaN   \n",
       "\n",
       "   oer_proj_1 recborough receiving_    status        uid volume_cy weight_ton  \n",
       "71        NaN        NaN        NaN  Complete  20CCSB167       640        960  "
      ]
     },
     "execution_count": 6,
     "metadata": {},
     "output_type": "execute_result"
    }
   ],
   "source": [
    "tidy_df.loc[71, \"boro\"]= \"Queens\"\n",
    "tidy_df[tidy_df.addr == \"Spring Creek Park\"]"
   ]
  },
  {
   "cell_type": "code",
   "execution_count": 7,
   "id": "e467e21a",
   "metadata": {},
   "outputs": [],
   "source": [
    "# tidying soil transactions that are split into 2 rows - a receiving and generating row into a flatter structure\n",
    "tidy_df.recborough = tidy_df.boro\n",
    "tidy_df.receiving_ = tidy_df.addr\n",
    "tidy_df = tidy_df[tidy_df.category == \"Receiving\"]"
   ]
  },
  {
   "cell_type": "code",
   "execution_count": 8,
   "id": "d2284d6f",
   "metadata": {},
   "outputs": [
    {
     "data": {
      "text/html": [
       "<div>\n",
       "<style scoped>\n",
       "    .dataframe tbody tr th:only-of-type {\n",
       "        vertical-align: middle;\n",
       "    }\n",
       "\n",
       "    .dataframe tbody tr th {\n",
       "        vertical-align: top;\n",
       "    }\n",
       "\n",
       "    .dataframe thead th {\n",
       "        text-align: right;\n",
       "    }\n",
       "</style>\n",
       "<table border=\"1\" class=\"dataframe\">\n",
       "  <thead>\n",
       "    <tr style=\"text-align: right;\">\n",
       "      <th></th>\n",
       "      <th>the_geom</th>\n",
       "      <th>addr</th>\n",
       "      <th>boro</th>\n",
       "      <th>category</th>\n",
       "      <th>genborough</th>\n",
       "      <th>generating</th>\n",
       "      <th>lat</th>\n",
       "      <th>lon</th>\n",
       "      <th>oer_projec</th>\n",
       "      <th>oer_proj_1</th>\n",
       "      <th>recborough</th>\n",
       "      <th>receiving_</th>\n",
       "      <th>status</th>\n",
       "      <th>uid</th>\n",
       "      <th>volume_cy</th>\n",
       "      <th>weight_ton</th>\n",
       "    </tr>\n",
       "  </thead>\n",
       "  <tbody>\n",
       "    <tr>\n",
       "      <th>0</th>\n",
       "      <td>NaN</td>\n",
       "      <td>GreenThumb HQ</td>\n",
       "      <td>Queens</td>\n",
       "      <td>Receiving</td>\n",
       "      <td>Queens</td>\n",
       "      <td>97-11 Sutphin Blvd</td>\n",
       "      <td>NaN</td>\n",
       "      <td>NaN</td>\n",
       "      <td>17TMP0431Q</td>\n",
       "      <td>NaN</td>\n",
       "      <td>Queens</td>\n",
       "      <td>GreenThumb HQ</td>\n",
       "      <td>Completed</td>\n",
       "      <td>19CCSB113</td>\n",
       "      <td>90</td>\n",
       "      <td>135</td>\n",
       "    </tr>\n",
       "    <tr>\n",
       "      <th>1</th>\n",
       "      <td>POINT (-73.926391 40.691478)</td>\n",
       "      <td>1003 Greene Ave</td>\n",
       "      <td>Brooklyn</td>\n",
       "      <td>Receiving</td>\n",
       "      <td>Brooklyn</td>\n",
       "      <td>63 North 6th Street</td>\n",
       "      <td>40.691478</td>\n",
       "      <td>-73.926391</td>\n",
       "      <td>15CVCP028K</td>\n",
       "      <td>15EHAN368K (and BCP)</td>\n",
       "      <td>Brooklyn</td>\n",
       "      <td>1003 Greene Ave</td>\n",
       "      <td>Completed</td>\n",
       "      <td>16CCSB048</td>\n",
       "      <td>220</td>\n",
       "      <td>330</td>\n",
       "    </tr>\n",
       "    <tr>\n",
       "      <th>2</th>\n",
       "      <td>POINT (-73.979744 40.698401000000004)</td>\n",
       "      <td>Admiral's Row</td>\n",
       "      <td>Brooklyn</td>\n",
       "      <td>Receiving</td>\n",
       "      <td>Queens</td>\n",
       "      <td>38-01 Queen Boulevard</td>\n",
       "      <td>40.698401</td>\n",
       "      <td>-73.979744</td>\n",
       "      <td>NaN</td>\n",
       "      <td>DEP</td>\n",
       "      <td>Brooklyn</td>\n",
       "      <td>Admiral's Row</td>\n",
       "      <td>Completed</td>\n",
       "      <td>17CCSB092</td>\n",
       "      <td>1000</td>\n",
       "      <td>1,500</td>\n",
       "    </tr>\n",
       "    <tr>\n",
       "      <th>6</th>\n",
       "      <td>POINT (-74.020936 40.657099)</td>\n",
       "      <td>Bush Terminal Pond</td>\n",
       "      <td>Brooklyn</td>\n",
       "      <td>Receiving</td>\n",
       "      <td>Queens</td>\n",
       "      <td>52-01 Queens Blvd</td>\n",
       "      <td>40.657099</td>\n",
       "      <td>-74.020936</td>\n",
       "      <td>12CVCP066Q</td>\n",
       "      <td>Parks</td>\n",
       "      <td>Brooklyn</td>\n",
       "      <td>Bush Terminal Pond</td>\n",
       "      <td>Completed</td>\n",
       "      <td>13CCSB001</td>\n",
       "      <td>2040</td>\n",
       "      <td>3060</td>\n",
       "    </tr>\n",
       "    <tr>\n",
       "      <th>8</th>\n",
       "      <td>POINT (-73.896939 40.649136)</td>\n",
       "      <td>Ponderosa</td>\n",
       "      <td>Brooklyn</td>\n",
       "      <td>Receiving</td>\n",
       "      <td>Queens</td>\n",
       "      <td>97-11 Sutphin Blvd</td>\n",
       "      <td>40.649136</td>\n",
       "      <td>-73.896939</td>\n",
       "      <td>17TMP0431Q</td>\n",
       "      <td>NaN</td>\n",
       "      <td>Brooklyn</td>\n",
       "      <td>Ponderosa</td>\n",
       "      <td>Completed</td>\n",
       "      <td>19CCSB113</td>\n",
       "      <td>120</td>\n",
       "      <td>180</td>\n",
       "    </tr>\n",
       "  </tbody>\n",
       "</table>\n",
       "</div>"
      ],
      "text/plain": [
       "                                the_geom                addr      boro  \\\n",
       "0                                    NaN       GreenThumb HQ    Queens   \n",
       "1           POINT (-73.926391 40.691478)     1003 Greene Ave  Brooklyn   \n",
       "2  POINT (-73.979744 40.698401000000004)       Admiral's Row  Brooklyn   \n",
       "6           POINT (-74.020936 40.657099)  Bush Terminal Pond  Brooklyn   \n",
       "8           POINT (-73.896939 40.649136)           Ponderosa  Brooklyn   \n",
       "\n",
       "    category genborough             generating        lat        lon  \\\n",
       "0  Receiving     Queens     97-11 Sutphin Blvd        NaN        NaN   \n",
       "1  Receiving   Brooklyn    63 North 6th Street  40.691478 -73.926391   \n",
       "2  Receiving     Queens  38-01 Queen Boulevard  40.698401 -73.979744   \n",
       "6  Receiving     Queens      52-01 Queens Blvd  40.657099 -74.020936   \n",
       "8  Receiving     Queens     97-11 Sutphin Blvd  40.649136 -73.896939   \n",
       "\n",
       "   oer_projec            oer_proj_1 recborough          receiving_     status  \\\n",
       "0  17TMP0431Q                   NaN     Queens       GreenThumb HQ  Completed   \n",
       "1  15CVCP028K  15EHAN368K (and BCP)   Brooklyn     1003 Greene Ave  Completed   \n",
       "2         NaN                   DEP   Brooklyn       Admiral's Row  Completed   \n",
       "6  12CVCP066Q                 Parks   Brooklyn  Bush Terminal Pond  Completed   \n",
       "8  17TMP0431Q                   NaN   Brooklyn           Ponderosa  Completed   \n",
       "\n",
       "         uid volume_cy weight_ton  \n",
       "0  19CCSB113        90        135  \n",
       "1  16CCSB048       220        330  \n",
       "2  17CCSB092      1000      1,500  \n",
       "6  13CCSB001      2040       3060  \n",
       "8  19CCSB113       120        180  "
      ]
     },
     "execution_count": 8,
     "metadata": {},
     "output_type": "execute_result"
    }
   ],
   "source": [
    "tidy_df.head()"
   ]
  },
  {
   "cell_type": "code",
   "execution_count": 9,
   "id": "a5cea390",
   "metadata": {},
   "outputs": [
    {
     "data": {
      "text/html": [
       "<div>\n",
       "<style scoped>\n",
       "    .dataframe tbody tr th:only-of-type {\n",
       "        vertical-align: middle;\n",
       "    }\n",
       "\n",
       "    .dataframe tbody tr th {\n",
       "        vertical-align: top;\n",
       "    }\n",
       "\n",
       "    .dataframe thead th {\n",
       "        text-align: right;\n",
       "    }\n",
       "</style>\n",
       "<table border=\"1\" class=\"dataframe\">\n",
       "  <thead>\n",
       "    <tr style=\"text-align: right;\">\n",
       "      <th></th>\n",
       "      <th>gen_boro</th>\n",
       "      <th>gen_addr</th>\n",
       "      <th>rec_boro</th>\n",
       "      <th>rec_addr</th>\n",
       "      <th>volume_cy</th>\n",
       "      <th>weight_ton</th>\n",
       "    </tr>\n",
       "  </thead>\n",
       "  <tbody>\n",
       "    <tr>\n",
       "      <th>0</th>\n",
       "      <td>Queens</td>\n",
       "      <td>97-11 Sutphin Blvd</td>\n",
       "      <td>Queens</td>\n",
       "      <td>GreenThumb HQ</td>\n",
       "      <td>90</td>\n",
       "      <td>135</td>\n",
       "    </tr>\n",
       "    <tr>\n",
       "      <th>1</th>\n",
       "      <td>Brooklyn</td>\n",
       "      <td>63 North 6th Street</td>\n",
       "      <td>Brooklyn</td>\n",
       "      <td>1003 Greene Ave</td>\n",
       "      <td>220</td>\n",
       "      <td>330</td>\n",
       "    </tr>\n",
       "    <tr>\n",
       "      <th>2</th>\n",
       "      <td>Queens</td>\n",
       "      <td>38-01 Queen Boulevard</td>\n",
       "      <td>Brooklyn</td>\n",
       "      <td>Admiral's Row</td>\n",
       "      <td>1000</td>\n",
       "      <td>1,500</td>\n",
       "    </tr>\n",
       "    <tr>\n",
       "      <th>6</th>\n",
       "      <td>Queens</td>\n",
       "      <td>52-01 Queens Blvd</td>\n",
       "      <td>Brooklyn</td>\n",
       "      <td>Bush Terminal Pond</td>\n",
       "      <td>2040</td>\n",
       "      <td>3060</td>\n",
       "    </tr>\n",
       "    <tr>\n",
       "      <th>8</th>\n",
       "      <td>Queens</td>\n",
       "      <td>97-11 Sutphin Blvd</td>\n",
       "      <td>Brooklyn</td>\n",
       "      <td>Ponderosa</td>\n",
       "      <td>120</td>\n",
       "      <td>180</td>\n",
       "    </tr>\n",
       "  </tbody>\n",
       "</table>\n",
       "</div>"
      ],
      "text/plain": [
       "   gen_boro               gen_addr  rec_boro            rec_addr volume_cy  \\\n",
       "0    Queens     97-11 Sutphin Blvd    Queens       GreenThumb HQ        90   \n",
       "1  Brooklyn    63 North 6th Street  Brooklyn     1003 Greene Ave       220   \n",
       "2    Queens  38-01 Queen Boulevard  Brooklyn       Admiral's Row      1000   \n",
       "6    Queens      52-01 Queens Blvd  Brooklyn  Bush Terminal Pond      2040   \n",
       "8    Queens     97-11 Sutphin Blvd  Brooklyn           Ponderosa       120   \n",
       "\n",
       "  weight_ton  \n",
       "0        135  \n",
       "1        330  \n",
       "2      1,500  \n",
       "6       3060  \n",
       "8        180  "
      ]
     },
     "execution_count": 9,
     "metadata": {},
     "output_type": "execute_result"
    }
   ],
   "source": [
    "# removing redundant or unneeded columns and renaming\n",
    "tidy_df = tidy_df[[\"genborough\", \"generating\", \"recborough\", \"receiving_\", \"volume_cy\", \"weight_ton\"]]\n",
    "tidy_df.columns = ['gen_boro', 'gen_addr', 'rec_boro', 'rec_addr', 'volume_cy', 'weight_ton']\n",
    "tidy_df.head()"
   ]
  },
  {
   "cell_type": "code",
   "execution_count": 10,
   "id": "95ed8c3a",
   "metadata": {},
   "outputs": [
    {
     "name": "stdout",
     "output_type": "stream",
     "text": [
      "<class 'pandas.core.frame.DataFrame'>\n",
      "Int64Index: 139 entries, 0 to 277\n",
      "Data columns (total 6 columns):\n",
      " #   Column      Non-Null Count  Dtype \n",
      "---  ------      --------------  ----- \n",
      " 0   gen_boro    139 non-null    object\n",
      " 1   gen_addr    139 non-null    object\n",
      " 2   rec_boro    139 non-null    object\n",
      " 3   rec_addr    139 non-null    object\n",
      " 4   volume_cy   138 non-null    object\n",
      " 5   weight_ton  138 non-null    object\n",
      "dtypes: object(6)\n",
      "memory usage: 7.6+ KB\n"
     ]
    }
   ],
   "source": [
    "tidy_df.info()"
   ]
  },
  {
   "cell_type": "code",
   "execution_count": 11,
   "id": "c55357ba",
   "metadata": {},
   "outputs": [],
   "source": [
    "# drop NAs from volume and weight (must be an error)\n",
    "tidy_df = tidy_df.dropna()"
   ]
  },
  {
   "cell_type": "code",
   "execution_count": 12,
   "id": "11a8fd7f",
   "metadata": {},
   "outputs": [],
   "source": [
    "# update types\n",
    "tidy_df.volume_cy = tidy_df.volume_cy.astype('string')\n",
    "tidy_df.volume_cy = tidy_df.volume_cy.map(lambda x: x.replace(',', ''))\n",
    "tidy_df.volume_cy = pd.to_numeric(tidy_df.volume_cy)\n",
    "\n",
    "tidy_df.weight_ton = tidy_df.weight_ton.astype('string')\n",
    "tidy_df.weight_ton = tidy_df.weight_ton.map(lambda x: x.replace(',', ''))\n",
    "tidy_df.weight_ton = pd.to_numeric(tidy_df.weight_ton)\n",
    "\n",
    "tidy_df.gen_addr = tidy_df.gen_addr.astype('string')\n",
    "tidy_df.rec_addr = tidy_df.rec_addr.astype('string')"
   ]
  },
  {
   "cell_type": "code",
   "execution_count": 13,
   "id": "b2027eb2",
   "metadata": {},
   "outputs": [
    {
     "data": {
      "text/plain": [
       "array(['Queens', 'Brooklyn', 'New York', 'Manhattan', 'New Rochelle',\n",
       "       'Staten Island', 'Bronx'], dtype=object)"
      ]
     },
     "execution_count": 13,
     "metadata": {},
     "output_type": "execute_result"
    }
   ],
   "source": [
    "tidy_df.gen_boro.unique()"
   ]
  },
  {
   "cell_type": "code",
   "execution_count": 14,
   "id": "0420fe22",
   "metadata": {},
   "outputs": [
    {
     "data": {
      "text/plain": [
       "array(['Queens', 'Brooklyn', 'Manhattan', 'Other', 'Staten Island',\n",
       "       'Bronx'], dtype=object)"
      ]
     },
     "execution_count": 14,
     "metadata": {},
     "output_type": "execute_result"
    }
   ],
   "source": [
    "tidy_df.loc[tidy_df['gen_boro'] == 'New Rochelle', 'gen_boro'] = 'Other'\n",
    "tidy_df.loc[tidy_df['gen_boro'] == 'New York', 'gen_boro'] = 'Manhattan'\n",
    "tidy_df.gen_boro.unique()"
   ]
  },
  {
   "cell_type": "code",
   "execution_count": 15,
   "id": "ba939c22",
   "metadata": {},
   "outputs": [
    {
     "data": {
      "text/plain": [
       "array(['Queens', 'Brooklyn', 'Staten island', 'Staten Island', 'Bronx',\n",
       "       'Manhattan', 'Citywide'], dtype=object)"
      ]
     },
     "execution_count": 15,
     "metadata": {},
     "output_type": "execute_result"
    }
   ],
   "source": [
    "tidy_df.rec_boro.unique()"
   ]
  },
  {
   "cell_type": "code",
   "execution_count": 16,
   "id": "b366a9e3",
   "metadata": {},
   "outputs": [],
   "source": [
    "tidy_df.loc[tidy_df['rec_boro'] == 'Staten island', 'rec_boro'] = 'Staten Island'"
   ]
  },
  {
   "cell_type": "code",
   "execution_count": 17,
   "id": "0b9821d3",
   "metadata": {},
   "outputs": [],
   "source": [
    "# 'citywide' for a generating or receiving borough implies that multiple shipments were combined inappropriately\n",
    "tidy_df = tidy_df[tidy_df.rec_boro != \"Citywide\"]"
   ]
  },
  {
   "cell_type": "code",
   "execution_count": 18,
   "id": "d866d71b",
   "metadata": {},
   "outputs": [
    {
     "data": {
      "text/plain": [
       "array(['Queens', 'Brooklyn', 'Staten Island', 'Bronx', 'Manhattan'],\n",
       "      dtype=object)"
      ]
     },
     "execution_count": 18,
     "metadata": {},
     "output_type": "execute_result"
    }
   ],
   "source": [
    "tidy_df.rec_boro.unique()"
   ]
  },
  {
   "cell_type": "code",
   "execution_count": 19,
   "id": "98d9a9bb",
   "metadata": {},
   "outputs": [],
   "source": [
    "tidy_df.gen_boro = tidy_df.gen_boro.astype(\"category\")\n",
    "tidy_df.rec_boro = tidy_df.rec_boro.astype(\"category\")"
   ]
  },
  {
   "cell_type": "code",
   "execution_count": 20,
   "id": "189c3799",
   "metadata": {},
   "outputs": [
    {
     "name": "stdout",
     "output_type": "stream",
     "text": [
      "<class 'pandas.core.frame.DataFrame'>\n",
      "Int64Index: 136 entries, 0 to 277\n",
      "Data columns (total 6 columns):\n",
      " #   Column      Non-Null Count  Dtype   \n",
      "---  ------      --------------  -----   \n",
      " 0   gen_boro    136 non-null    category\n",
      " 1   gen_addr    136 non-null    string  \n",
      " 2   rec_boro    136 non-null    category\n",
      " 3   rec_addr    136 non-null    string  \n",
      " 4   volume_cy   136 non-null    int64   \n",
      " 5   weight_ton  136 non-null    float64 \n",
      "dtypes: category(2), float64(1), int64(1), string(2)\n",
      "memory usage: 6.0 KB\n"
     ]
    }
   ],
   "source": [
    "tidy_df.info()"
   ]
  },
  {
   "cell_type": "code",
   "execution_count": 21,
   "id": "a6808a01",
   "metadata": {},
   "outputs": [],
   "source": [
    "# calculating density\n",
    "tidy_df[\"density\"] = tidy_df.weight_ton / tidy_df.volume_cy"
   ]
  },
  {
   "cell_type": "markdown",
   "id": "eb85fa08",
   "metadata": {},
   "source": [
    "Given the relative uniform density it appears that either volume or weight was already a calculated column with all variance being accounted by rounding errors. There should be natural variance in the density of different soils."
   ]
  },
  {
   "cell_type": "markdown",
   "id": "cbbffc16",
   "metadata": {},
   "source": [
    "## Data Exploration"
   ]
  },
  {
   "cell_type": "code",
   "execution_count": 22,
   "id": "1377e3fa",
   "metadata": {},
   "outputs": [
    {
     "data": {
      "text/html": [
       "<div>\n",
       "<style scoped>\n",
       "    .dataframe tbody tr th:only-of-type {\n",
       "        vertical-align: middle;\n",
       "    }\n",
       "\n",
       "    .dataframe tbody tr th {\n",
       "        vertical-align: top;\n",
       "    }\n",
       "\n",
       "    .dataframe thead th {\n",
       "        text-align: right;\n",
       "    }\n",
       "</style>\n",
       "<table border=\"1\" class=\"dataframe\">\n",
       "  <thead>\n",
       "    <tr style=\"text-align: right;\">\n",
       "      <th></th>\n",
       "      <th>volume_cy</th>\n",
       "      <th>weight_ton</th>\n",
       "      <th>density</th>\n",
       "    </tr>\n",
       "  </thead>\n",
       "  <tbody>\n",
       "    <tr>\n",
       "      <th>count</th>\n",
       "      <td>136.000000</td>\n",
       "      <td>136.000000</td>\n",
       "      <td>136.000000</td>\n",
       "    </tr>\n",
       "    <tr>\n",
       "      <th>mean</th>\n",
       "      <td>2714.477941</td>\n",
       "      <td>4071.727941</td>\n",
       "      <td>1.500204</td>\n",
       "    </tr>\n",
       "    <tr>\n",
       "      <th>std</th>\n",
       "      <td>6523.036107</td>\n",
       "      <td>9784.552791</td>\n",
       "      <td>0.002259</td>\n",
       "    </tr>\n",
       "    <tr>\n",
       "      <th>min</th>\n",
       "      <td>19.000000</td>\n",
       "      <td>29.000000</td>\n",
       "      <td>1.500000</td>\n",
       "    </tr>\n",
       "    <tr>\n",
       "      <th>25%</th>\n",
       "      <td>123.750000</td>\n",
       "      <td>185.625000</td>\n",
       "      <td>1.500000</td>\n",
       "    </tr>\n",
       "    <tr>\n",
       "      <th>50%</th>\n",
       "      <td>550.000000</td>\n",
       "      <td>825.000000</td>\n",
       "      <td>1.500000</td>\n",
       "    </tr>\n",
       "    <tr>\n",
       "      <th>75%</th>\n",
       "      <td>2160.000000</td>\n",
       "      <td>3240.000000</td>\n",
       "      <td>1.500000</td>\n",
       "    </tr>\n",
       "    <tr>\n",
       "      <th>max</th>\n",
       "      <td>55450.000000</td>\n",
       "      <td>83175.000000</td>\n",
       "      <td>1.526316</td>\n",
       "    </tr>\n",
       "  </tbody>\n",
       "</table>\n",
       "</div>"
      ],
      "text/plain": [
       "          volume_cy    weight_ton     density\n",
       "count    136.000000    136.000000  136.000000\n",
       "mean    2714.477941   4071.727941    1.500204\n",
       "std     6523.036107   9784.552791    0.002259\n",
       "min       19.000000     29.000000    1.500000\n",
       "25%      123.750000    185.625000    1.500000\n",
       "50%      550.000000    825.000000    1.500000\n",
       "75%     2160.000000   3240.000000    1.500000\n",
       "max    55450.000000  83175.000000    1.526316"
      ]
     },
     "execution_count": 22,
     "metadata": {},
     "output_type": "execute_result"
    }
   ],
   "source": [
    "tidy_df.describe()"
   ]
  },
  {
   "cell_type": "code",
   "execution_count": 23,
   "id": "e16c6e7e",
   "metadata": {},
   "outputs": [
    {
     "data": {
      "text/html": [
       "<div>\n",
       "<style scoped>\n",
       "    .dataframe tbody tr th:only-of-type {\n",
       "        vertical-align: middle;\n",
       "    }\n",
       "\n",
       "    .dataframe tbody tr th {\n",
       "        vertical-align: top;\n",
       "    }\n",
       "\n",
       "    .dataframe thead th {\n",
       "        text-align: right;\n",
       "    }\n",
       "</style>\n",
       "<table border=\"1\" class=\"dataframe\">\n",
       "  <thead>\n",
       "    <tr style=\"text-align: right;\">\n",
       "      <th></th>\n",
       "      <th>gen_boro</th>\n",
       "      <th>gen_addr</th>\n",
       "      <th>rec_boro</th>\n",
       "      <th>rec_addr</th>\n",
       "      <th>volume_cy</th>\n",
       "      <th>weight_ton</th>\n",
       "      <th>density</th>\n",
       "    </tr>\n",
       "  </thead>\n",
       "  <tbody>\n",
       "    <tr>\n",
       "      <th>24</th>\n",
       "      <td>Brooklyn</td>\n",
       "      <td>BAM South - 113 Flatbush Avenue</td>\n",
       "      <td>Staten Island</td>\n",
       "      <td>Staten Island Marine Development (SIMD)</td>\n",
       "      <td>55450</td>\n",
       "      <td>83175.0</td>\n",
       "      <td>1.5</td>\n",
       "    </tr>\n",
       "  </tbody>\n",
       "</table>\n",
       "</div>"
      ],
      "text/plain": [
       "    gen_boro                         gen_addr       rec_boro  \\\n",
       "24  Brooklyn  BAM South - 113 Flatbush Avenue  Staten Island   \n",
       "\n",
       "                                   rec_addr  volume_cy  weight_ton  density  \n",
       "24  Staten Island Marine Development (SIMD)      55450     83175.0      1.5  "
      ]
     },
     "execution_count": 23,
     "metadata": {},
     "output_type": "execute_result"
    }
   ],
   "source": [
    "# The max volume and weight is a clear outlier of dirt shipments so attention to outliers will have to be considered throughout\n",
    "tidy_df[tidy_df.volume_cy == 55450]"
   ]
  },
  {
   "cell_type": "markdown",
   "id": "f704cd19",
   "metadata": {},
   "source": [
    "## Visualizations\n",
    "### Part 1"
   ]
  },
  {
   "cell_type": "code",
   "execution_count": 24,
   "id": "8f4314d6",
   "metadata": {},
   "outputs": [
    {
     "data": {
      "image/png": "[encoded data removed]",
      "text/plain": [
       "<Figure size 640x480 with 1 Axes>"
      ]
     },
     "metadata": {},
     "output_type": "display_data"
    }
   ],
   "source": [
    "# distribution of weight in tons excluding outliers using IQR\n",
    "\n",
    "outlier_cutoff = np.quantile(tidy_df[\"weight_ton\"], 0.75) + (1.5 * (np.quantile(tidy_df[\"weight_ton\"], 0.75) - np.quantile(tidy_df[\"weight_ton\"], 0.25)))\n",
    "plt.hist(tidy_df[tidy_df[\"weight_ton\"] < outlier_cutoff].weight_ton, bins = 20)\n",
    "# adding title and axis labels\n",
    "plt.xlabel(\"Weight in Tons\", fontsize = 16)\n",
    "plt.ylabel(\"Count\", fontsize = 16)\n",
    "plt.title(\"NYC Clean Soil Shipments\", fontsize = 20)\n",
    "# adding note regarding outliers\n",
    "plt.annotate('Outliers excluded\\n above ' + str(round(outlier_cutoff)) + ' tons',\n",
    "            xy=(.6, .8), xycoords='figure fraction',\n",
    "            horizontalalignment='left', verticalalignment='top',\n",
    "            fontsize=14)\n",
    "plt.show()"
   ]
  },
  {
   "cell_type": "code",
   "execution_count": 25,
   "id": "e46eb5e9",
   "metadata": {},
   "outputs": [
    {
     "data": {
      "text/html": [
       "<div>\n",
       "<style scoped>\n",
       "    .dataframe tbody tr th:only-of-type {\n",
       "        vertical-align: middle;\n",
       "    }\n",
       "\n",
       "    .dataframe tbody tr th {\n",
       "        vertical-align: top;\n",
       "    }\n",
       "\n",
       "    .dataframe thead th {\n",
       "        text-align: right;\n",
       "    }\n",
       "</style>\n",
       "<table border=\"1\" class=\"dataframe\">\n",
       "  <thead>\n",
       "    <tr style=\"text-align: right;\">\n",
       "      <th>rec_boro</th>\n",
       "      <th>Bronx</th>\n",
       "      <th>Brooklyn</th>\n",
       "      <th>Manhattan</th>\n",
       "      <th>Queens</th>\n",
       "      <th>Staten Island</th>\n",
       "      <th>All</th>\n",
       "    </tr>\n",
       "    <tr>\n",
       "      <th>gen_boro</th>\n",
       "      <th></th>\n",
       "      <th></th>\n",
       "      <th></th>\n",
       "      <th></th>\n",
       "      <th></th>\n",
       "      <th></th>\n",
       "    </tr>\n",
       "  </thead>\n",
       "  <tbody>\n",
       "    <tr>\n",
       "      <th>All</th>\n",
       "      <td>52547.5</td>\n",
       "      <td>163114.5</td>\n",
       "      <td>16238.0</td>\n",
       "      <td>36645.0</td>\n",
       "      <td>285210.0</td>\n",
       "      <td>553755.0</td>\n",
       "    </tr>\n",
       "    <tr>\n",
       "      <th>Brooklyn</th>\n",
       "      <td>11062.5</td>\n",
       "      <td>60102.0</td>\n",
       "      <td>11250.0</td>\n",
       "      <td>1815.0</td>\n",
       "      <td>159000.0</td>\n",
       "      <td>243229.5</td>\n",
       "    </tr>\n",
       "    <tr>\n",
       "      <th>Queens</th>\n",
       "      <td>27569.0</td>\n",
       "      <td>100492.5</td>\n",
       "      <td>4988.0</td>\n",
       "      <td>33120.0</td>\n",
       "      <td>34773.0</td>\n",
       "      <td>200942.5</td>\n",
       "    </tr>\n",
       "    <tr>\n",
       "      <th>Staten Island</th>\n",
       "      <td>0.0</td>\n",
       "      <td>0.0</td>\n",
       "      <td>0.0</td>\n",
       "      <td>0.0</td>\n",
       "      <td>75634.5</td>\n",
       "      <td>75634.5</td>\n",
       "    </tr>\n",
       "    <tr>\n",
       "      <th>Manhattan</th>\n",
       "      <td>0.0</td>\n",
       "      <td>1800.0</td>\n",
       "      <td>0.0</td>\n",
       "      <td>1710.0</td>\n",
       "      <td>11640.0</td>\n",
       "      <td>15150.0</td>\n",
       "    </tr>\n",
       "    <tr>\n",
       "      <th>Other</th>\n",
       "      <td>11903.0</td>\n",
       "      <td>0.0</td>\n",
       "      <td>0.0</td>\n",
       "      <td>0.0</td>\n",
       "      <td>0.0</td>\n",
       "      <td>11903.0</td>\n",
       "    </tr>\n",
       "    <tr>\n",
       "      <th>Bronx</th>\n",
       "      <td>2013.0</td>\n",
       "      <td>720.0</td>\n",
       "      <td>0.0</td>\n",
       "      <td>0.0</td>\n",
       "      <td>4162.5</td>\n",
       "      <td>6895.5</td>\n",
       "    </tr>\n",
       "  </tbody>\n",
       "</table>\n",
       "</div>"
      ],
      "text/plain": [
       "rec_boro         Bronx  Brooklyn  Manhattan   Queens  Staten Island       All\n",
       "gen_boro                                                                     \n",
       "All            52547.5  163114.5    16238.0  36645.0       285210.0  553755.0\n",
       "Brooklyn       11062.5   60102.0    11250.0   1815.0       159000.0  243229.5\n",
       "Queens         27569.0  100492.5     4988.0  33120.0        34773.0  200942.5\n",
       "Staten Island      0.0       0.0        0.0      0.0        75634.5   75634.5\n",
       "Manhattan          0.0    1800.0        0.0   1710.0        11640.0   15150.0\n",
       "Other          11903.0       0.0        0.0      0.0            0.0   11903.0\n",
       "Bronx           2013.0     720.0        0.0      0.0         4162.5    6895.5"
      ]
     },
     "execution_count": 25,
     "metadata": {},
     "output_type": "execute_result"
    }
   ],
   "source": [
    "# pivot table showing total soil weight by generating and receiving boroughs\n",
    "pivot = pd.pivot_table(tidy_df, values='weight_ton', index='gen_boro', columns='rec_boro', aggfunc=np.sum, margins=True)\n",
    "pivot = pivot.sort_values('All', ascending=False)\n",
    "pivot"
   ]
  },
  {
   "cell_type": "code",
   "execution_count": 26,
   "id": "c0e89002",
   "metadata": {},
   "outputs": [
    {
     "data": {
      "image/png": "[encoded data removed]",
      "text/plain": [
       "<Figure size 1000x500 with 1 Axes>"
      ]
     },
     "metadata": {},
     "output_type": "display_data"
    }
   ],
   "source": [
    "# plot for the above pivot of soil weights by borough in stacked bars\n",
    "# figure and axis\n",
    "fig, ax = plt.subplots(1, figsize=(10, 5))\n",
    "# plot bars\n",
    "left = len(pivot) * [0]\n",
    "for idx, name in enumerate(tidy_df.rec_boro.unique()):\n",
    "    plt.barh(pivot.index, pivot[name], left = left, height=0.5)\n",
    "    left = left + pivot[name]\n",
    "# title, legend, labels\n",
    "plt.title('Soil Shipments by Borough', loc='left', fontsize=20)\n",
    "plt.legend(tidy_df.rec_boro.unique(), title='Receiving Borough', fontsize=14)\n",
    "plt.xlabel('Total Weight in Tons', fontsize=14)\n",
    "plt.ylabel('Generating Borough', fontsize=14)\n",
    "# draw grid lines\n",
    "ax.xaxis.grid(color='gray', linestyle='dashed')\n",
    "plt.show()"
   ]
  },
  {
   "cell_type": "markdown",
   "id": "73c07131",
   "metadata": {},
   "source": [
    "## Visualizations\n",
    "### Part 2"
   ]
  },
  {
   "cell_type": "code",
   "execution_count": 27,
   "id": "781fd120",
   "metadata": {},
   "outputs": [
    {
     "data": {
      "image/png": "[encoded data removed]",
      "text/plain": [
       "<Figure size 640x480 with 1 Axes>"
      ]
     },
     "metadata": {},
     "output_type": "display_data"
    }
   ],
   "source": [
    "# distribution of weight in tons excluding outliers using IQR\n",
    "\n",
    "sns.histplot(tidy_df[tidy_df[\"weight_ton\"] < outlier_cutoff].weight_ton, bins = 20)\n",
    "plt.xlabel(\"Weight in Tons\", fontsize = 16)\n",
    "plt.ylabel(\"Count\", fontsize = 16)\n",
    "plt.title(\"NYC Clean Soil Shipments\", fontsize = 20)\n",
    "plt.annotate('Outliers excluded\\n above ' + str(round(outlier_cutoff)) + ' tons',\n",
    "            xy=(.6, .8), xycoords='figure fraction',\n",
    "            horizontalalignment='left', verticalalignment='top',\n",
    "            fontsize=14)\n",
    "plt.show()"
   ]
  },
  {
   "cell_type": "code",
   "execution_count": 28,
   "id": "1a3dd6de",
   "metadata": {},
   "outputs": [
    {
     "data": {
      "image/png": "[encoded data removed]",
      "text/plain": [
       "<Figure size 640x480 with 1 Axes>"
      ]
     },
     "metadata": {},
     "output_type": "display_data"
    }
   ],
   "source": [
    "# from what I can find Seaborn does not have any straightforward way to generate a stacking bar plot like the\n",
    "# 'bottom' parameter in matplotlib (or in this case 'left'). The solution I see online is to overlay \n",
    "# multiple bars while calculating a running sum for height. \n",
    "# That seems more difficult with 5 levels than just using matplotlib\n",
    "bar_plot1 = sns.barplot(x='weight_ton', y='gen_boro', data=tidy_df, hue=\"rec_boro\", errorbar=None)\n",
    "plt.xlabel('Total Weight in Tons', fontsize=14)\n",
    "plt.ylabel('Generating Borough', fontsize=14)\n",
    "plt.show()"
   ]
  },
  {
   "cell_type": "markdown",
   "id": "91851b46",
   "metadata": {},
   "source": [
    "### Part 3\n",
    "It seems like the biggest difference in creating plots with matplolib and seaborn is the data structure that is intended to be used to generate plots. Another difference is that seaborn is easier to create generic \"fancy\" looking visualizations. If you have tidy data you can quickly bang out an atractive looking plot. I found that to be true for my histogram but not really supported for the stacked bar chart. There may not always be a Seaborn version of a particular plot."
   ]
  },
  {
   "cell_type": "markdown",
   "id": "1532534e",
   "metadata": {},
   "source": [
    "## Conclusions\n",
    "The biggest take away from my analysis of soil transfers in New York City is that I would like to suggest that NYC add a date field for data set. Unfortunately there was not a lot of interesting analysis possible due to data quality. One thing I would like to highlight is that soil that comes from Staten Island stays in Staten Island. "
   ]
  }
 ],
 "metadata": {
  "kernelspec": {
   "display_name": "Python 3 (ipykernel)",
   "language": "python",
   "name": "python3"
  },
  "language_info": {
   "codemirror_mode": {
    "name": "ipython",
    "version": 3
   },
   "file_extension": ".py",
   "mimetype": "text/x-python",
   "name": "python",
   "nbconvert_exporter": "python",
   "pygments_lexer": "ipython3",
   "version": "3.7.2"
  }
 },
 "nbformat": 4,
 "nbformat_minor": 5
}
